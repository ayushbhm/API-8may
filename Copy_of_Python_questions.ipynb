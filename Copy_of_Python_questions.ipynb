{
  "nbformat": 4,
  "nbformat_minor": 0,
  "metadata": {
    "colab": {
      "provenance": []
    },
    "kernelspec": {
      "name": "python3",
      "display_name": "Python 3"
    },
    "language_info": {
      "name": "python"
    }
  },
  "cells": [
    {
      "cell_type": "code",
      "execution_count": null,
      "metadata": {
        "id": "5XB9p1YRwYox"
      },
      "outputs": [],
      "source": []
    },
    {
      "cell_type": "markdown",
      "source": [
        "This is an exercise notebook for selection of candidates in Centre for Computational Brain Research (CCBR), IIT Madras\n",
        "\n",
        "##(c) 2024 CCBR\n",
        "\n",
        "---"
      ],
      "metadata": {
        "id": "1XiiPegjwqPx"
      }
    },
    {
      "cell_type": "markdown",
      "source": [
        "[Candidate Name], [contact details], [batch/other details]"
      ],
      "metadata": {
        "id": "lDeapaoCwv8g"
      }
    },
    {
      "cell_type": "markdown",
      "source": [
        "---\n",
        "## Instructions\n",
        "  \n",
        "*   make a copy of this notebook\n",
        "*   write your name as the first block of the copied notebook\n",
        "*   complete the codes in the spaces below\n",
        "*   share the saved notebook to [ -- email id here --]\n",
        "\n",
        "## Good practices\n",
        "*   avoid single alphabet variable names, use meaningful names\n",
        "*   use typing in function signatures [https://docs.python.org/3/library/typing.html]\n",
        "*   use lambdas, partials to improve readability [https://docs.python.org/3/library/functools.html]\n",
        "*   use builtin datatypes as much as possible [https://docs.python.org/3/library/collections.html]\n",
        "*   use exception handling [https://docs.python.org/3/tutorial/errors.html#handling-exceptions]\n",
        "*   write docstring comments and inline comments to make the code self-explanatory\n",
        "\n",
        "\n",
        "**PS**: These are individual exercises. In comments against your solutions, provide web links/blogs/documents that you used to solve the exercises. Do not use chatGPT"
      ],
      "metadata": {
        "id": "UwjTcblKw11J"
      }
    },
    {
      "cell_type": "markdown",
      "source": [
        "---\n",
        "## Basic imports and data"
      ],
      "metadata": {
        "id": "X1YpY6VzxC9v"
      }
    },
    {
      "cell_type": "code",
      "source": [
        "import skimage\n",
        "from matplotlib import pyplot as plt\n",
        "import numpy as np\n",
        "import pandas as pd\n",
        "import scipy"
      ],
      "metadata": {
        "id": "04X2-pVIwqzv"
      },
      "execution_count": null,
      "outputs": []
    },
    {
      "cell_type": "markdown",
      "source": [
        "---\n",
        "# **Basic python tasks**"
      ],
      "metadata": {
        "id": "q6ah6k3UxKW0"
      }
    },
    {
      "cell_type": "markdown",
      "source": [
        "### Task 1"
      ],
      "metadata": {
        "id": "70Qtx8AcxVZK"
      }
    },
    {
      "cell_type": "markdown",
      "source": [
        "1(a): Define a function named ```describe```, which returns the properties of the numpy array passed as argument. Use ```scipy.stats.describe```\n",
        "\n",
        "The function should return an array of dicts which can be loaded in pandas"
      ],
      "metadata": {
        "id": "GhvTLs4txXph"
      }
    },
    {
      "cell_type": "code",
      "source": [],
      "metadata": {
        "id": "DTZ4tVWr1hjZ"
      },
      "execution_count": null,
      "outputs": []
    },
    {
      "cell_type": "code",
      "source": [
        "# Your 1(a) solution"
      ],
      "metadata": {
        "id": "NQWW9sFnxa08"
      },
      "execution_count": null,
      "outputs": []
    },
    {
      "cell_type": "markdown",
      "source": [
        "1(b): Call your function on the data loaded in previous section, wrap it in a pandas dataframe, and print the result"
      ],
      "metadata": {
        "id": "rNDTVvLAxaII"
      }
    },
    {
      "cell_type": "code",
      "source": [
        "# Your 1(b) solution"
      ],
      "metadata": {
        "id": "RF88KCHaxSJB"
      },
      "execution_count": null,
      "outputs": []
    },
    {
      "cell_type": "markdown",
      "source": [
        "# Task 2"
      ],
      "metadata": {
        "id": "3xP5oXgDx95u"
      }
    },
    {
      "cell_type": "markdown",
      "source": [
        "2(a): Define a function to flatten a nested dict (left to right in figure below)\n",
        "\n",
        "The dict values can be string, numeric, or array of dict.\n",
        "\n",
        "String and numeric are mandatory in your solution. **Implementation for array is bonus**.\n",
        "\n",
        "In case of array, the output dict should have keys named using array position.\n",
        "\n",
        "e.g if\n",
        "```\n",
        "\"d\":[\n",
        "  {\"e\":v3,\"f\":v4},\n",
        "  {\"g\":v5,\"h\":v6}\n",
        "]\n",
        "\n",
        "```\n",
        "then flatten it as\n",
        "```\n",
        "\"d.0.e\":v3,\n",
        "\"d.0.f\":v4,\n",
        "\"d.1.g\":v5,\n",
        "\"d.1.h\":v6\n",
        "```"
      ],
      "metadata": {
        "id": "c-faDX0EyAIf"
      }
    },
    {
      "cell_type": "markdown",
      "source": [
        "![unnamed.png](data:image/png;base64,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)"
      ],
      "metadata": {
        "id": "ajgUXGcCyC4C"
      }
    },
    {
      "cell_type": "code",
      "source": [
        "# your solution 2(a) here"
      ],
      "metadata": {
        "id": "i4Gkp_gbx-Nz"
      },
      "execution_count": null,
      "outputs": []
    },
    {
      "cell_type": "markdown",
      "source": [
        "2(b): Define a function to unflatten (right to left of figure above).\n",
        "\n",
        "Dict values can be string or numeric. implementation for array is bonus"
      ],
      "metadata": {
        "id": "9NyxPr70yHtq"
      }
    },
    {
      "cell_type": "code",
      "source": [
        "# your solution 2(b) here\n"
      ],
      "metadata": {
        "id": "iVyWfvAsyJd1"
      },
      "execution_count": null,
      "outputs": []
    },
    {
      "cell_type": "markdown",
      "source": [
        "# Task 3"
      ],
      "metadata": {
        "id": "U647SUUEyLx5"
      }
    },
    {
      "cell_type": "markdown",
      "source": [
        "Write a NumPy program to create a 3x3 identity matrix and stack it vertically and horizontally."
      ],
      "metadata": {
        "id": "Ulbu2WXbymTG"
      }
    },
    {
      "cell_type": "code",
      "source": [
        "# Your solution\n"
      ],
      "metadata": {
        "id": "-M84op11ylNX"
      },
      "execution_count": null,
      "outputs": []
    },
    {
      "cell_type": "markdown",
      "source": [
        "---\n",
        "# **Numpy/Scipy tasks**"
      ],
      "metadata": {
        "id": "BbFe8Wxryp3H"
      }
    },
    {
      "cell_type": "markdown",
      "source": [
        "# Task 4"
      ],
      "metadata": {
        "id": "0rXKoprZzzUi"
      }
    },
    {
      "cell_type": "markdown",
      "source": [
        "Define a function to crop a square region from a given array, centered at a given r,c position, of given side length.\n",
        "\n",
        "Your function should return the subarray, and rect (r1,c1,r2,c2), handling underflow and overflow\n",
        "\n",
        "the rect should be such that\n",
        "```\n",
        "subarray = givenarray(r1:r2,c1:c2)\n",
        "```"
      ],
      "metadata": {
        "id": "fe82Cl87ywph"
      }
    },
    {
      "cell_type": "code",
      "source": [
        "def crop_array(arr:np.ndarray,pos:tuple,sidelen:int):\n",
        "  # your solution here\n",
        "  pass"
      ],
      "metadata": {
        "id": "fwDaWy8vyua_"
      },
      "execution_count": null,
      "outputs": []
    },
    {
      "cell_type": "markdown",
      "source": [
        "# Task 5"
      ],
      "metadata": {
        "id": "7LbNcxab0Yll"
      }
    },
    {
      "cell_type": "markdown",
      "source": [
        "5(b): Call your function by passing **data_2d_color**, and random points and side lengths"
      ],
      "metadata": {
        "id": "c2SqZOMM0cEe"
      }
    },
    {
      "cell_type": "code",
      "source": [
        "data_2d_color = skimage.data.skin()\n",
        "plt.imshow(data_2d_color)"
      ],
      "metadata": {
        "id": "C3t73q3g0dzT"
      },
      "execution_count": null,
      "outputs": []
    },
    {
      "cell_type": "markdown",
      "source": [
        "# Task 6"
      ],
      "metadata": {
        "id": "ColK2xgVyynA"
      }
    },
    {
      "cell_type": "markdown",
      "source": [
        "Write a single expression to make the color dimension of data_2d_color come to the first dimension."
      ],
      "metadata": {
        "id": "XI7l1sA40n9U"
      }
    },
    {
      "cell_type": "code",
      "source": [
        "# Your solution here\n"
      ],
      "metadata": {
        "id": "RQRhJ6wg0nJ0"
      },
      "execution_count": null,
      "outputs": []
    },
    {
      "cell_type": "markdown",
      "source": [
        "Show the shape of your result. Then write a single expression to revert color to third dimension. Verify by showing the shape and plt.imshow"
      ],
      "metadata": {
        "id": "gPxtx1jA0t5z"
      }
    },
    {
      "cell_type": "code",
      "source": [
        "# Your solution here\n"
      ],
      "metadata": {
        "id": "OPR7lUWu0vb2"
      },
      "execution_count": null,
      "outputs": []
    },
    {
      "cell_type": "markdown",
      "source": [
        "# Task 7"
      ],
      "metadata": {
        "id": "t2rr-cCe0087"
      }
    },
    {
      "cell_type": "markdown",
      "source": [
        "7(a): Define a function to create a list of (r,c) that trace a semicircle. Use the function signature in the cell below"
      ],
      "metadata": {
        "id": "YuPmT6a202ho"
      }
    },
    {
      "cell_type": "code",
      "source": [
        "from enum import Enum, auto\n",
        "\n",
        "class Direction(Enum):\n",
        "  UP=auto()\n",
        "  DOWN=auto()\n",
        "  LEFT=auto()\n",
        "  RIGHT=auto()\n",
        "\n",
        "def make_semicircle(cen_r:int=250, cen_c:int=250, rad:int=10, facing:Direction=Direction.UP):\n",
        "\n",
        "  ptslist = []\n",
        "\n",
        "  # your solution here\n"
      ],
      "metadata": {
        "id": "V2RWzhNp012L"
      },
      "execution_count": null,
      "outputs": []
    },
    {
      "cell_type": "markdown",
      "source": [
        "# Task 8"
      ],
      "metadata": {
        "id": "lRhRjEEzTcYA"
      }
    },
    {
      "cell_type": "markdown",
      "source": [
        " Call the function make_semicircle with random cen_r and cen_c between 100 to 400, and with the returned ptslist, set the points in a zero array of dtype bool, and size (512,512). Use plt.imshow to confirm the result\n",
        "\n",
        "Make sure to handle over- and underflows in ptslist wrt 512 x 512"
      ],
      "metadata": {
        "id": "7-TeUG5s07Ay"
      }
    },
    {
      "cell_type": "code",
      "source": [
        "cen_r,cen_c = np.random.randint(100,400,2)\n",
        "print(cen_r,cen_c)\n",
        "\n",
        "ptslist = make_semicircle(cen_r,cen_c,200,Direction.RIGHT)\n",
        "\n",
        "# your solution here"
      ],
      "metadata": {
        "id": "7BReuh8c07Xh"
      },
      "execution_count": null,
      "outputs": []
    },
    {
      "cell_type": "markdown",
      "source": [
        "# Task 9"
      ],
      "metadata": {
        "id": "2J5QAFQp09Vm"
      }
    },
    {
      "cell_type": "markdown",
      "source": [
        "Generate a synthetic gradient image using NumPy and apply a basic threshold to create a binary image effect."
      ],
      "metadata": {
        "id": "VrV7XAoj1e54"
      }
    },
    {
      "cell_type": "markdown",
      "source": [
        "Modify the generate_gradient_image function to create a different gradient pattern.\n",
        "\n",
        "Experiment with different threshold values in the apply_threshold function.\n",
        "\n",
        "Add a function to compute and print the histogram of the original and thresholded images."
      ],
      "metadata": {
        "id": "2WEEcTc71jLD"
      }
    },
    {
      "cell_type": "code",
      "source": [
        "def generate_gradient_image(size):\n",
        "    \"\"\"Generate a 2D gradient image of given size.\"\"\"\n",
        "\n",
        "    # Create a linear gradient image from 0 to 255\n",
        "    x = np.linspace(0, 255, size[0])\n",
        "    y = np.linspace(0, 255, size[1])\n",
        "    xx, yy = np.meshgrid(x, y, indexing='ij')\n",
        "    gradient_image = (xx + yy) / 2\n",
        "    return gradient_image\n",
        "\n",
        "def apply_threshold(image, threshold=127.5):\n",
        "\n",
        "    \"\"\"Apply a simple threshold to the image.\"\"\"\n",
        "\n",
        "    # Apply threshold\n",
        "    binary_image = np.where(image > threshold, 255, 0)\n",
        "    return binary_image\n",
        "\n",
        "def display_images(original, modified):\n",
        "    \"\"\"Display the original and modified images.\"\"\"\n",
        "    plt.figure(figsize=(10, 5))\n",
        "    plt.subplot(1, 2, 1)\n",
        "    plt.title(\"Original Image\")\n",
        "    plt.imshow(original, cmap='gray')\n",
        "    plt.axis('off')\n",
        "\n",
        "    plt.subplot(1, 2, 2)\n",
        "    plt.title(\"Thresholded Image\")\n",
        "    plt.imshow(modified, cmap='gray')\n",
        "    plt.axis('off')\n",
        "\n",
        "    plt.show()\n",
        "\n",
        "# Main execution\n",
        "size = (256, 256)\n",
        "original_image = generate_gradient_image(size)\n",
        "thresholded_image = apply_threshold(original_image)\n",
        "\n",
        "display_images(original_image, thresholded_image)\n"
      ],
      "metadata": {
        "id": "bAzMRGR10_Is"
      },
      "execution_count": null,
      "outputs": []
    },
    {
      "cell_type": "markdown",
      "source": [
        "# Task 10 (Bonus)"
      ],
      "metadata": {
        "id": "4RAQ0lVa14-y"
      }
    },
    {
      "cell_type": "markdown",
      "source": [
        "# **Binary Path Sum**"
      ],
      "metadata": {
        "id": "QpEt2gnDtEHC"
      }
    },
    {
      "cell_type": "markdown",
      "source": [
        "A path in a binary tree is a sequence of nodes where each pair of adjacent nodes in the sequence has an edge connecting them. A node can only appear in the sequence at most once. Note that the path does not need to pass through the root.\n",
        "\n",
        "The path sum of a path is the sum of the node's values in the path.\n",
        "\n",
        "Given the root of a binary tree, return the maximum path sum of any non-empty path.\n",
        "\n",
        "\n",
        "**Example 1:**"
      ],
      "metadata": {
        "id": "ULqXMAZRtEce"
      }
    },
    {
      "cell_type": "markdown",
      "source": [
        "![image.png](data:image/png;base64,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)"
      ],
      "metadata": {
        "id": "5yKVsMnJtOBz"
      }
    },
    {
      "cell_type": "markdown",
      "source": [
        "**Input: root** = [1,2,3]\n",
        "\n",
        "**Output:** 6\n",
        "\n",
        "**Explanation:** The optimal path is 2 -> 1 -> 3 with a path sum of 2 + 1 + 3 = 6."
      ],
      "metadata": {
        "id": "3lpww83rtdYA"
      }
    },
    {
      "cell_type": "markdown",
      "source": [
        "**Example 2:**"
      ],
      "metadata": {
        "id": "pej6zlmltnGR"
      }
    },
    {
      "cell_type": "markdown",
      "source": [
        "![image.png](data:image/png;base64,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)"
      ],
      "metadata": {
        "id": "pLLDjht2tuTz"
      }
    },
    {
      "cell_type": "markdown",
      "source": [
        "**Input: root** = [-10,9,20,null,null,15,7]\n",
        "\n",
        "**Output:** 42\n",
        "\n",
        "**Explanation:** The optimal path is 15 -> 20 -> 7 with a path sum of 15 + 20 + 7 = 42."
      ],
      "metadata": {
        "id": "QNoWjiBvtuFZ"
      }
    },
    {
      "cell_type": "code",
      "source": [
        "# Definition for a binary tree node.\n",
        "# class TreeNode:\n",
        "#     def __init__(self, val=0, left=None, right=None):\n",
        "#         self.val = val\n",
        "#         self.left = left\n",
        "#         self.right = right\n",
        "class Solution:\n",
        "    def maxPathSum(self, root: Optional[TreeNode]) -> int:\n",
        "\n"
      ],
      "metadata": {
        "id": "Dpd4tO1F17Ml"
      },
      "execution_count": null,
      "outputs": []
    }
  ]
}